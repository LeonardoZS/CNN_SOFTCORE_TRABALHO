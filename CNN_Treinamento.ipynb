{
  "nbformat": 4,
  "nbformat_minor": 0,
  "metadata": {
    "colab": {
      "provenance": []
    },
    "kernelspec": {
      "name": "python3",
      "display_name": "Python 3"
    },
    "language_info": {
      "name": "python"
    }
  },
  "cells": [
    {
      "cell_type": "markdown",
      "source": [
        "**Nome: Leonardo Zaniboni Silva  11801049**\n"
      ],
      "metadata": {
        "id": "js8O3Z91zKfl"
      }
    },
    {
      "cell_type": "markdown",
      "source": [
        "Importando o **Dataset**"
      ],
      "metadata": {
        "id": "fexIWK13zG2l"
      }
    },
    {
      "cell_type": "code",
      "execution_count": 1,
      "metadata": {
        "colab": {
          "base_uri": "https://localhost:8080/"
        },
        "id": "5OGKs3_Wy9-6",
        "outputId": "1192b294-d716-485b-c418-4fa655ba39e2"
      },
      "outputs": [
        {
          "output_type": "stream",
          "name": "stdout",
          "text": [
            "Downloading data from https://storage.googleapis.com/tensorflow/tf-keras-datasets/mnist.npz\n",
            "\u001b[1m11490434/11490434\u001b[0m \u001b[32m━━━━━━━━━━━━━━━━━━━━\u001b[0m\u001b[37m\u001b[0m \u001b[1m0s\u001b[0m 0us/step\n"
          ]
        }
      ],
      "source": [
        "import tensorflow as tf\n",
        "import numpy as np\n",
        "\n",
        "mnistDataBase = tf.keras.datasets.mnist\n",
        "\n",
        "(x_train, y_train), (x_test, y_test) = mnistDataBase.load_data()"
      ]
    },
    {
      "cell_type": "code",
      "source": [
        "x_train = x_train[..., np.newaxis] / 255.0\n",
        "x_test = x_test[..., np.newaxis] / 255.0\n",
        "\n",
        "x_train = tf.image.resize(x_train, [7, 7]).numpy()\n",
        "x_test = tf.image.resize(x_test, [7, 7]).numpy()"
      ],
      "metadata": {
        "id": "eN3yTV_KzUcc"
      },
      "execution_count": 2,
      "outputs": []
    },
    {
      "cell_type": "markdown",
      "source": [
        "Aqui já temos a imagem de entrada em tamanho reduzido **(28,28) -> (7,7)**"
      ],
      "metadata": {
        "id": "x-NuHJeozax8"
      }
    },
    {
      "cell_type": "code",
      "source": [
        "import matplotlib.pyplot as plt\n",
        "plt.imshow(x_test[0], cmap='gray')\n",
        "plt.show()"
      ],
      "metadata": {
        "colab": {
          "base_uri": "https://localhost:8080/",
          "height": 430
        },
        "id": "DiojXcPLzYbU",
        "outputId": "2796cb55-f530-4688-f7ff-6d06ad7cad90"
      },
      "execution_count": 3,
      "outputs": [
        {
          "output_type": "display_data",
          "data": {
            "text/plain": [
              "<Figure size 640x480 with 1 Axes>"
            ],
            "image/png": "[encoded data removed]"
          },
          "metadata": {}
        }
      ]
    },
    {
      "cell_type": "markdown",
      "source": [
        "Treinando o modelo..."
      ],
      "metadata": {
        "id": "miuK8riRzrd8"
      }
    },
    {
      "cell_type": "code",
      "source": [
        "model = tf.keras.models.Sequential([\n",
        "    tf.keras.layers.Conv2D(1, (3, 3), activation='relu', input_shape=(7, 7, 1)),\n",
        "    tf.keras.layers.MaxPooling2D(2, 2),\n",
        "    tf.keras.layers.Flatten(),\n",
        "    tf.keras.layers.Dense(10, activation='softmax')\n",
        "])\n",
        "\n",
        "model.compile(optimizer='adam',\n",
        "              loss='sparse_categorical_crossentropy',\n",
        "              metrics=['accuracy'])\n",
        "\n",
        "model.fit(x_train, y_train, epochs=5, validation_data=(x_test, y_test))"
      ],
      "metadata": {
        "colab": {
          "base_uri": "https://localhost:8080/"
        },
        "id": "W2EfqGhjzmw0",
        "outputId": "f4524fe0-f6de-4631-bc08-83a9d4849d69"
      },
      "execution_count": 10,
      "outputs": [
        {
          "output_type": "stream",
          "name": "stdout",
          "text": [
            "Epoch 1/5\n"
          ]
        },
        {
          "output_type": "stream",
          "name": "stderr",
          "text": [
            "/usr/local/lib/python3.11/dist-packages/keras/src/layers/convolutional/base_conv.py:107: UserWarning: Do not pass an `input_shape`/`input_dim` argument to a layer. When using Sequential models, prefer using an `Input(shape)` object as the first layer in the model instead.\n",
            "  super().__init__(activity_regularizer=activity_regularizer, **kwargs)\n"
          ]
        },
        {
          "output_type": "stream",
          "name": "stdout",
          "text": [
            "\u001b[1m1875/1875\u001b[0m \u001b[32m━━━━━━━━━━━━━━━━━━━━\u001b[0m\u001b[37m\u001b[0m \u001b[1m7s\u001b[0m 3ms/step - accuracy: 0.2306 - loss: 2.1529 - val_accuracy: 0.3985 - val_loss: 1.7399\n",
            "Epoch 2/5\n",
            "\u001b[1m1875/1875\u001b[0m \u001b[32m━━━━━━━━━━━━━━━━━━━━\u001b[0m\u001b[37m\u001b[0m \u001b[1m9s\u001b[0m 3ms/step - accuracy: 0.3995 - loss: 1.7001 - val_accuracy: 0.4307 - val_loss: 1.6187\n",
            "Epoch 3/5\n",
            "\u001b[1m1875/1875\u001b[0m \u001b[32m━━━━━━━━━━━━━━━━━━━━\u001b[0m\u001b[37m\u001b[0m \u001b[1m7s\u001b[0m 3ms/step - accuracy: 0.4198 - loss: 1.6230 - val_accuracy: 0.4431 - val_loss: 1.5889\n",
            "Epoch 4/5\n",
            "\u001b[1m1875/1875\u001b[0m \u001b[32m━━━━━━━━━━━━━━━━━━━━\u001b[0m\u001b[37m\u001b[0m \u001b[1m5s\u001b[0m 3ms/step - accuracy: 0.4317 - loss: 1.5873 - val_accuracy: 0.4425 - val_loss: 1.5773\n",
            "Epoch 5/5\n",
            "\u001b[1m1875/1875\u001b[0m \u001b[32m━━━━━━━━━━━━━━━━━━━━\u001b[0m\u001b[37m\u001b[0m \u001b[1m6s\u001b[0m 3ms/step - accuracy: 0.4362 - loss: 1.5800 - val_accuracy: 0.4435 - val_loss: 1.5723\n"
          ]
        },
        {
          "output_type": "execute_result",
          "data": {
            "text/plain": [
              "<keras.src.callbacks.history.History at 0x7cc08e1cb990>"
            ]
          },
          "metadata": {},
          "execution_count": 10
        }
      ]
    },
    {
      "cell_type": "markdown",
      "source": [
        "Na tentativa de diminuir o tempo de espera para se ter o resultado na simulação do VIVADO, essa camada de max-pooling foi incluída. No entanto, isso resulta em uma acurácia mais baixa, já que o max-pooling descarta informações críticas, principalmente em features maps já pequenas... (como neste caso).\n",
        "\n",
        "Ao retirar essa camada de sub-amostragem, a acurácia sobe na casa dos 90%."
      ],
      "metadata": {
        "id": "4q85OhGJ1KgF"
      }
    },
    {
      "cell_type": "markdown",
      "source": [
        "Salvando os pesos ..."
      ],
      "metadata": {
        "id": "VGU6q0v8zwqt"
      }
    },
    {
      "cell_type": "code",
      "source": [
        "weights = model.get_weights()\n",
        "np.savez(\"cnn_weights_embbeded.npz\", *weights)"
      ],
      "metadata": {
        "id": "aYKunHrdzv6l"
      },
      "execution_count": 5,
      "outputs": []
    },
    {
      "cell_type": "markdown",
      "source": [
        "Em seguida, os pesos e algumas imagens foram exportadas para arquivos .h (MANUALMENTE)"
      ],
      "metadata": {
        "id": "89GeGxxsz63k"
      }
    },
    {
      "cell_type": "code",
      "source": [
        "data = np.load(\"cnn_weights_embbeded.npz\")"
      ],
      "metadata": {
        "id": "z9XWsRZE0ers"
      },
      "execution_count": 6,
      "outputs": []
    },
    {
      "cell_type": "code",
      "source": [
        "#EXEMPLO: PEGANDO PESOS\n",
        "conv_kernels = data['arr_0']\n",
        "conv_bias = data['arr_1']\n",
        "dense_weights = data['arr_2']\n",
        "dense_bias = data['arr_3']"
      ],
      "metadata": {
        "id": "NNfpV4Et0tcd"
      },
      "execution_count": 8,
      "outputs": []
    },
    {
      "cell_type": "code",
      "source": [
        "#EXEMPLO: PEGANDO IMAGENS\n",
        "x_test[1]"
      ],
      "metadata": {
        "id": "vyDIR6ZnQ-ea"
      },
      "execution_count": null,
      "outputs": []
    }
  ]
}